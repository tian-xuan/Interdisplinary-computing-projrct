{
 "cells": [
  {
   "cell_type": "code",
   "execution_count": 1,
   "metadata": {},
   "outputs": [],
   "source": [
    "import numpy as np\n",
    "import pandas as pd\n",
    "import math\n"
   ]
  },
  {
   "cell_type": "code",
   "execution_count": 2,
   "metadata": {},
   "outputs": [
    {
     "output_type": "execute_result",
     "data": {
      "text/plain": [
       "     Pregnancies  Glucose  BloodPressure  SkinThickness  Insulin   BMI  \\\n",
       "0              3       82             70              0        0  21.1   \n",
       "1              5      147             78              0        0  33.7   \n",
       "2              7      161             86              0        0  30.4   \n",
       "3              3      128             72             25      190  32.4   \n",
       "4              3      128             78              0        0  21.1   \n",
       "..           ...      ...            ...            ...      ...   ...   \n",
       "686            9      130             70              0        0  34.2   \n",
       "687            2       68             70             32       66  25.0   \n",
       "688            3       81             86             16       66  27.5   \n",
       "689            0      138              0              0        0  36.3   \n",
       "690            2      112             75             32        0  35.7   \n",
       "\n",
       "     DiabetesPedigreeFunction  Age  Outcome  \n",
       "0                       0.389   25        0  \n",
       "1                       0.218   65        0  \n",
       "2                       0.165   47        1  \n",
       "3                       0.549   27        1  \n",
       "4                       0.268   55        0  \n",
       "..                        ...  ...      ...  \n",
       "686                     0.652   45        1  \n",
       "687                     0.187   25        0  \n",
       "688                     0.306   22        0  \n",
       "689                     0.933   25        1  \n",
       "690                     0.148   21        0  \n",
       "\n",
       "[691 rows x 9 columns]"
      ],
      "text/html": "<div>\n<style scoped>\n    .dataframe tbody tr th:only-of-type {\n        vertical-align: middle;\n    }\n\n    .dataframe tbody tr th {\n        vertical-align: top;\n    }\n\n    .dataframe thead th {\n        text-align: right;\n    }\n</style>\n<table border=\"1\" class=\"dataframe\">\n  <thead>\n    <tr style=\"text-align: right;\">\n      <th></th>\n      <th>Pregnancies</th>\n      <th>Glucose</th>\n      <th>BloodPressure</th>\n      <th>SkinThickness</th>\n      <th>Insulin</th>\n      <th>BMI</th>\n      <th>DiabetesPedigreeFunction</th>\n      <th>Age</th>\n      <th>Outcome</th>\n    </tr>\n  </thead>\n  <tbody>\n    <tr>\n      <td>0</td>\n      <td>3</td>\n      <td>82</td>\n      <td>70</td>\n      <td>0</td>\n      <td>0</td>\n      <td>21.1</td>\n      <td>0.389</td>\n      <td>25</td>\n      <td>0</td>\n    </tr>\n    <tr>\n      <td>1</td>\n      <td>5</td>\n      <td>147</td>\n      <td>78</td>\n      <td>0</td>\n      <td>0</td>\n      <td>33.7</td>\n      <td>0.218</td>\n      <td>65</td>\n      <td>0</td>\n    </tr>\n    <tr>\n      <td>2</td>\n      <td>7</td>\n      <td>161</td>\n      <td>86</td>\n      <td>0</td>\n      <td>0</td>\n      <td>30.4</td>\n      <td>0.165</td>\n      <td>47</td>\n      <td>1</td>\n    </tr>\n    <tr>\n      <td>3</td>\n      <td>3</td>\n      <td>128</td>\n      <td>72</td>\n      <td>25</td>\n      <td>190</td>\n      <td>32.4</td>\n      <td>0.549</td>\n      <td>27</td>\n      <td>1</td>\n    </tr>\n    <tr>\n      <td>4</td>\n      <td>3</td>\n      <td>128</td>\n      <td>78</td>\n      <td>0</td>\n      <td>0</td>\n      <td>21.1</td>\n      <td>0.268</td>\n      <td>55</td>\n      <td>0</td>\n    </tr>\n    <tr>\n      <td>...</td>\n      <td>...</td>\n      <td>...</td>\n      <td>...</td>\n      <td>...</td>\n      <td>...</td>\n      <td>...</td>\n      <td>...</td>\n      <td>...</td>\n      <td>...</td>\n    </tr>\n    <tr>\n      <td>686</td>\n      <td>9</td>\n      <td>130</td>\n      <td>70</td>\n      <td>0</td>\n      <td>0</td>\n      <td>34.2</td>\n      <td>0.652</td>\n      <td>45</td>\n      <td>1</td>\n    </tr>\n    <tr>\n      <td>687</td>\n      <td>2</td>\n      <td>68</td>\n      <td>70</td>\n      <td>32</td>\n      <td>66</td>\n      <td>25.0</td>\n      <td>0.187</td>\n      <td>25</td>\n      <td>0</td>\n    </tr>\n    <tr>\n      <td>688</td>\n      <td>3</td>\n      <td>81</td>\n      <td>86</td>\n      <td>16</td>\n      <td>66</td>\n      <td>27.5</td>\n      <td>0.306</td>\n      <td>22</td>\n      <td>0</td>\n    </tr>\n    <tr>\n      <td>689</td>\n      <td>0</td>\n      <td>138</td>\n      <td>0</td>\n      <td>0</td>\n      <td>0</td>\n      <td>36.3</td>\n      <td>0.933</td>\n      <td>25</td>\n      <td>1</td>\n    </tr>\n    <tr>\n      <td>690</td>\n      <td>2</td>\n      <td>112</td>\n      <td>75</td>\n      <td>32</td>\n      <td>0</td>\n      <td>35.7</td>\n      <td>0.148</td>\n      <td>21</td>\n      <td>0</td>\n    </tr>\n  </tbody>\n</table>\n<p>691 rows × 9 columns</p>\n</div>"
     },
     "metadata": {},
     "execution_count": 2
    }
   ],
   "source": [
    "#here is where you put the data in \n",
    "#diabetes = pd.read_csv('documents/github/Interdisplinary-computing-projrct/data/train_data')\n",
    "diabetes=pd.read_csv('../Data/Train_data.csv')\n",
    "#diabetes=pd.read_csv('downloads/diabetes.csv')\n",
    "x=diabetes.to_numpy().tolist()\n",
    "glucose=diabetes[\"Glucose\"].to_numpy().tolist()\n",
    "outcome=diabetes[\"Outcome\"].to_numpy().tolist()\n",
    "diabetes"
   ]
  },
  {
   "cell_type": "code",
   "execution_count": 3,
   "metadata": {},
   "outputs": [],
   "source": [
    "#here is where you make and choose factors \n",
    "def make_data(x1):\n",
    "    c=x1\n",
    "    for i in range(len(x1)):\n",
    "\n",
    "        del c[i][8]\n",
    "        del c[i][3]\n",
    "        #del c[i][1]\n",
    "        del c[i][0]\n",
    "        cek=c\n",
    "    #print(x1)\n",
    "\n",
    "# here we used the composite factors gbmi=glucose*bmi and gage=glucose*age, which significantly improve performance\n",
    "def optimzed(x1):\n",
    "    c=x1\n",
    "    for i in range(len(x1)):\n",
    "        gbmi=c[i][1]*c[i][5]\n",
    "        gage=c[i][1]*c[i][7]\n",
    "        c[i].append(gage)\n",
    "        c[i].append(gbmi)\n",
    "        del c[i][8]\n",
    "        #del c[i][3]\n",
    "        #del c[i][1]\n",
    "        #del c[i][0]\n",
    "        cek=c\n",
    "    #print(x1)\n",
    "optimzed(x)\n",
    "\n"
   ]
  },
  {
   "cell_type": "code",
   "execution_count": 4,
   "metadata": {},
   "outputs": [
    {
     "output_type": "stream",
     "name": "stdout",
     "text": [
      "[[ 2.23978434e-02]\n [-1.02657270e-03]\n [-2.59664893e-03]\n [-1.75703327e-04]\n [-8.14770703e-05]\n [-7.63573517e-03]\n [ 1.63124233e-01]\n [-1.60896180e-03]\n [ 3.05109075e-05]\n [ 1.71877785e-04]]\n"
     ]
    }
   ],
   "source": [
    "#here we solve for the pseudo inverse matrix and print the weights. We also generate a prediction matrix \n",
    "'''def solution(x, outcome):\n",
    "    a=np.matrix(x)\n",
    "    inv=np.linalg.pinv(a)\n",
    "    sol=np.matrix(outcome).transpose()\n",
    "    weights=np.matmul(inv,sol)\n",
    "    print(weights)\n",
    "    predicted=np.matmul(a,weights).tolist()\n",
    "    return predicted'''\n",
    "def solutionw(x, outcome):\n",
    "    a=np.matrix(x)\n",
    "    inv=np.linalg.pinv(a)\n",
    "    sol=np.matrix(outcome).transpose()\n",
    "    weights=np.matmul(inv,sol)\n",
    "    print(weights)\n",
    "    predicted=np.matmul(a,weights).tolist()\n",
    "    return weights\n",
    "#predicted=solution(x,outcome)\n",
    "weights=solutionw(x,outcome)\n",
    "\n",
    "\n",
    "\n"
   ]
  },
  {
   "cell_type": "code",
   "execution_count": 5,
   "metadata": {},
   "outputs": [],
   "source": [
    "#use the above weightings to calculate it with the test data\n",
    "test=pd.read_csv('../Data/Verification_data.csv')\n",
    "x=test.to_numpy().tolist()\n",
    "outcome=test[\"Outcome\"].to_numpy().tolist()\n",
    "optimzed(x)\n",
    "predicted=np.matmul(np.matrix(x),weights).tolist()"
   ]
  },
  {
   "cell_type": "code",
   "execution_count": 6,
   "metadata": {},
   "outputs": [],
   "source": [
    "#This is for the non binary prediction model that gives answers as probabilities. It tells us our error \n",
    "def stats(predicted,outcome):\n",
    "\n",
    "    alpha=np.matrix(outcome).transpose()-predicted\n",
    "    alpha=alpha.tolist()\n",
    "    #print(alpha)\n",
    "    plist=predicted\n",
    "    std=[]\n",
    "    for i in range(len(outcome)):\n",
    "        val=math.sqrt((alpha[i][0]**2))#/plist[i][0]**2)\n",
    "        std.append(val)\n",
    "    #print(std)\n",
    "    std0=sum(std)\n",
    "    std1=sum(std)/len(std)\n",
    "    totalavg=sum(outcome)/len(outcome)\n",
    "    return std1/totalavg\n",
    "    #return std0/len(outcome)\n",
    "lol=stats(predicted,outcome)"
   ]
  },
  {
   "cell_type": "code",
   "execution_count": 7,
   "metadata": {},
   "outputs": [],
   "source": [
    "#turn probabilistic predictions into binary outcomes \n",
    "def binaryoutcome(entry):\n",
    "    self=[]\n",
    "    for i in range(len(entry)):\n",
    "        #print[entry[i]]\n",
    "        self.append(round(entry[i][0]))\n",
    "    return self\n",
    "predictbinary=binaryoutcome(predicted)"
   ]
  },
  {
   "cell_type": "code",
   "execution_count": 8,
   "metadata": {},
   "outputs": [],
   "source": [
    "#count the number of times we were wrong to figure out accuracy \n",
    "def statsbin(predicted,outcome):\n",
    "\n",
    "    std=[]\n",
    "    for i in range(len(outcome)):\n",
    "        val=math.sqrt(((outcome[i]-predicted[i])**2))\n",
    "        std.append(val)\n",
    "    #print(std)\n",
    "    std0=sum(std)\n",
    "    #std1=sum(std)/len(std)\n",
    "    #totalavg=sum(outcome)/len(outcome)\n",
    "    return std0/len(outcome)\n",
    "accuracy=1-statsbin(predictbinary,outcome)"
   ]
  },
  {
   "cell_type": "code",
   "execution_count": 9,
   "metadata": {},
   "outputs": [
    {
     "output_type": "execute_result",
     "data": {
      "text/plain": [
       "0.7662337662337663"
      ]
     },
     "metadata": {},
     "execution_count": 9
    }
   ],
   "source": [
    "accuracy"
   ]
  },
  {
   "cell_type": "code",
   "execution_count": 64,
   "metadata": {},
   "outputs": [
    {
     "data": {
      "text/plain": [
       "[0,\n",
       " 0,\n",
       " 0,\n",
       " 0,\n",
       " 0,\n",
       " 1,\n",
       " 0,\n",
       " 0,\n",
       " 0,\n",
       " 0,\n",
       " 0,\n",
       " 1,\n",
       " 0,\n",
       " 0,\n",
       " 0,\n",
       " 0,\n",
       " 0,\n",
       " 0,\n",
       " 1,\n",
       " 0,\n",
       " 0,\n",
       " 0,\n",
       " 1,\n",
       " 1,\n",
       " 1,\n",
       " 0,\n",
       " 0,\n",
       " 0,\n",
       " 1,\n",
       " 1,\n",
       " 0,\n",
       " 1,\n",
       " 1,\n",
       " 0,\n",
       " 0,\n",
       " 0,\n",
       " 0,\n",
       " 1,\n",
       " 0,\n",
       " 0,\n",
       " 0,\n",
       " 0,\n",
       " 0,\n",
       " 0,\n",
       " 0,\n",
       " 0,\n",
       " 0,\n",
       " 0,\n",
       " 1,\n",
       " 0,\n",
       " 0,\n",
       " 0,\n",
       " 1,\n",
       " 0,\n",
       " 1,\n",
       " 0,\n",
       " 0,\n",
       " 1,\n",
       " 0,\n",
       " 1,\n",
       " 0,\n",
       " 0,\n",
       " 0,\n",
       " 0,\n",
       " 1,\n",
       " 1,\n",
       " 0,\n",
       " 0,\n",
       " 0,\n",
       " 0,\n",
       " 1,\n",
       " 0,\n",
       " 0,\n",
       " 0,\n",
       " 0,\n",
       " 0,\n",
       " 0]"
      ]
     },
     "execution_count": 64,
     "metadata": {},
     "output_type": "execute_result"
    }
   ],
   "source": [
    "predictbinary"
   ]
  },
  {
   "cell_type": "markdown",
   "metadata": {},
   "source": [
    "## Title"
   ]
  },
  {
   "cell_type": "code",
   "execution_count": null,
   "metadata": {},
   "outputs": [],
   "source": []
  }
 ],
 "metadata": {
  "kernelspec": {
   "display_name": "Python 3",
   "language": "python",
   "name": "python3"
  },
  "language_info": {
   "codemirror_mode": {
    "name": "ipython",
    "version": 3
   },
   "file_extension": ".py",
   "mimetype": "text/x-python",
   "name": "python",
   "nbconvert_exporter": "python",
   "pygments_lexer": "ipython3",
   "version": "3.7.4-final"
  }
 },
 "nbformat": 4,
 "nbformat_minor": 4
}